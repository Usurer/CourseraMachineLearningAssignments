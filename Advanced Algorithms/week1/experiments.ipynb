{
 "cells": [
  {
   "cell_type": "code",
   "execution_count": null,
   "metadata": {},
   "outputs": [],
   "source": [
    "import numpy as np\n",
    "import matplotlib.pyplot as plt\n",
    "import tensorflow as tf\n",
    "from tensorflow.keras.layers import Dense, Input\n",
    "from tensorflow.keras import Sequential\n",
    "from tensorflow.keras.losses import MeanSquaredError, BinaryCrossentropy\n",
    "from tensorflow.keras.activations import sigmoid\n",
    "import logging\n",
    "logging.getLogger(\"tensorflow\").setLevel(logging.ERROR)\n",
    "tf.autograph.set_verbosity(0)"
   ]
  },
  {
   "cell_type": "code",
   "execution_count": null,
   "metadata": {},
   "outputs": [],
   "source": [
    "X_train = np.array([[1, 2], [1.5, 0.5], [0.5, 2.5]])\n",
    "# NDArray.shape for the matrix returns (row_count, col_count)\n",
    "# The amount of rows is X_train.shape[0], the amount of cols is X_train.shape[1]\n",
    "# I assume that amount of rows is the size of a training set, i.e. how many records we do have\n",
    "# The amount of columns is how many variables per one experiment we have (for house prediction - floors count, bathrooms count, square space etc)\n",
    "\n",
    "sample_size = X_train.shape[1]\n",
    "# How may neurons do we want in a layer\n",
    "amount_of_neurons = 3\n",
    "W = np.ones((amount_of_neurons, sample_size))\n",
    "B = np.zeros((amount_of_neurons, 1))\n",
    "\n",
    "# Since I want to use matrix multiplication for W and X_train, I have to transpose X_train\n",
    "# Because W matrix row contains weights for a single learning sample and during multiplication\n",
    "# in is multiplied with the first column of second matrix (X_train), so we have to put values of x\n",
    "# for every sample to be in a same row, not in a same column\n",
    "\n",
    "# The result of W * X_train.T is the matrix where:\n",
    "# - each column contains data for single training sample\n",
    "#   the first element of the column is the first neuron data, the second is for second neuron etc\n",
    "# - first column is data for every neuron for the first sample, second column - second sample etc\n",
    "# _______________________________________________________________________________________________________________________\n",
    "# | W_fist_neuron · X_first_sample      |   W_fist_neuron · X_second_sample     |   W_fist_neuron · X_third_sample      |\n",
    "# | W_second_neuron · X_first_sample    |   W_second_neuron · X_second_sample   |   W_second_neuron · X_third_sample    |\n",
    "# | W_third_neuron · X_first_sample     |   W_third_neuron · X_second_sample    |   W_third_neuron · X_third_sample     |\n",
    "# ‾‾‾‾‾‾‾‾‾‾‾‾‾‾‾‾‾‾‾‾‾‾‾‾‾‾‾‾‾‾‾‾‾‾‾‾‾‾‾‾‾‾‾‾‾‾‾‾‾‾‾‾‾‾‾‾‾‾‾‾‾‾‾‾‾‾‾‾‾‾‾‾‾‾‾‾‾‾‾‾‾‾‾‾‾‾‾‾‾‾‾‾‾‾‾‾‾‾‾‾‾‾‾‾‾‾‾‾‾‾‾‾‾‾‾‾‾‾‾\n",
    "\n",
    "result = np.matmul(W, X_train.T) + B\n",
    "print(W)\n",
    "print(X_train.T)\n",
    "print(B)\n",
    "result"
   ]
  },
  {
   "cell_type": "code",
   "execution_count": 37,
   "metadata": {},
   "outputs": [
    {
     "data": {
      "text/plain": [
       "array([[0.11920292, 0.88079708],\n",
       "       [0.5       , 0.73105858]])"
      ]
     },
     "execution_count": 37,
     "metadata": {},
     "output_type": "execute_result"
    }
   ],
   "source": [
    "def sigmoid(z):\n",
    "    z = np.clip(z, -500, 500 ) #protect against overflow\n",
    "    return 1 / (1 + np.exp(-z))\n",
    "\n",
    "X = np.array([[-2, 2], [0, 1]])\n",
    "sigmoid(X)"
   ]
  },
  {
   "cell_type": "code",
   "execution_count": 38,
   "metadata": {},
   "outputs": [
    {
     "name": "stdout",
     "output_type": "stream",
     "text": [
      "[[-8.93 -0.1 ]\n",
      " [ 0.29 -7.32]\n",
      " [12.9  10.81]]\n",
      "[[-0.47 -0.47]\n",
      " [ 0.42  3.16]]\n",
      "[[-9.82]\n",
      " [-9.28]\n",
      " [ 0.96]]\n",
      "Before sigmoid\n",
      "[[ -5.6649  -5.9389]\n",
      " [-12.4907 -32.5475]\n",
      " [ -0.5628  29.0566]]\n",
      "After sigmoid\n",
      "[[3.45352613e-03 2.62800188e-03]\n",
      " [3.76145856e-06 7.32487723e-15]\n",
      " [3.62899842e-01 1.00000000e+00]]\n"
     ]
    }
   ],
   "source": [
    "W_1 = np.array([\n",
    "    [-8.93, -0.1 ],\n",
    "    [0.29, -7.32],\n",
    "    [12.9, 10.81]\n",
    "])\n",
    "\n",
    "X_1 = np.array([\n",
    "    [-0.47, -0.47 ],\n",
    "    [0.42, 3.16]\n",
    "])\n",
    "\n",
    "B_1 = np.array( [-9.82, -9.28,  0.96] )[:, np.newaxis]\n",
    "\n",
    "print(W_1)\n",
    "print(X_1)\n",
    "print(B_1)\n",
    "\n",
    "A_1 = np.matmul(W_1, X_1) + B_1\n",
    "print('Before sigmoid')\n",
    "print(A_1)\n",
    "print('After sigmoid')\n",
    "A_1 = sigmoid(A_1)\n",
    "print(A_1)\n"
   ]
  },
  {
   "cell_type": "code",
   "execution_count": 39,
   "metadata": {},
   "outputs": [
    {
     "data": {
      "text/plain": [
       "array([[9.70292454e-01, 3.28294082e-08]])"
      ]
     },
     "execution_count": 39,
     "metadata": {},
     "output_type": "execute_result"
    }
   ],
   "source": [
    "W_2 = np.array([\n",
    "    [-31.18, -27.59, -32.56]\n",
    "])\n",
    "\n",
    "B_2 = np.array([[15.41]])\n",
    "A_2 = np.matmul(W_2, A_1) + B_2\n",
    "sigmoid(A_2)"
   ]
  }
 ],
 "metadata": {
  "kernelspec": {
   "display_name": "base",
   "language": "python",
   "name": "python3"
  },
  "language_info": {
   "codemirror_mode": {
    "name": "ipython",
    "version": 3
   },
   "file_extension": ".py",
   "mimetype": "text/x-python",
   "name": "python",
   "nbconvert_exporter": "python",
   "pygments_lexer": "ipython3",
   "version": "3.10.10"
  },
  "orig_nbformat": 4
 },
 "nbformat": 4,
 "nbformat_minor": 2
}
