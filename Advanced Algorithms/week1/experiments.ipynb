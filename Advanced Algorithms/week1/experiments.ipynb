{
 "cells": [
  {
   "cell_type": "code",
   "execution_count": 2,
   "metadata": {},
   "outputs": [
    {
     "name": "stderr",
     "output_type": "stream",
     "text": [
      "2023-05-14 10:29:25.691401: I tensorflow/core/platform/cpu_feature_guard.cc:193] This TensorFlow binary is optimized with oneAPI Deep Neural Network Library (oneDNN) to use the following CPU instructions in performance-critical operations:  SSE4.1 SSE4.2 AVX\n",
      "To enable them in other operations, rebuild TensorFlow with the appropriate compiler flags.\n"
     ]
    }
   ],
   "source": [
    "import numpy as np\n",
    "import matplotlib.pyplot as plt\n",
    "import tensorflow as tf\n",
    "from tensorflow.keras.layers import Dense, Input\n",
    "from tensorflow.keras import Sequential\n",
    "from tensorflow.keras.losses import MeanSquaredError, BinaryCrossentropy\n",
    "from tensorflow.keras.activations import sigmoid\n",
    "import logging\n",
    "logging.getLogger(\"tensorflow\").setLevel(logging.ERROR)\n",
    "tf.autograph.set_verbosity(0)"
   ]
  },
  {
   "cell_type": "code",
   "execution_count": 8,
   "metadata": {},
   "outputs": [
    {
     "name": "stdout",
     "output_type": "stream",
     "text": [
      "[[1. 1.]\n",
      " [1. 1.]\n",
      " [1. 1.]]\n",
      "[[1.  1.5 0.5]\n",
      " [2.  0.5 2.5]]\n",
      "[[0.]\n",
      " [0.]\n",
      " [0.]]\n"
     ]
    },
    {
     "data": {
      "text/plain": [
       "array([[3., 2., 3.],\n",
       "       [3., 2., 3.],\n",
       "       [3., 2., 3.]])"
      ]
     },
     "execution_count": 8,
     "metadata": {},
     "output_type": "execute_result"
    }
   ],
   "source": [
    "X_train = np.array([[1, 2], [1.5, 0.5], [0.5, 2.5]])\n",
    "# NDArray.shape for the matrix returns (row_count, col_count)\n",
    "# The amount of rows is X_train.shape[0], the amount of cols is X_train.shape[1]\n",
    "# I assume that amount of rows is the size of a training set, i.e. how many records we do have\n",
    "# The amount of columns is how many variables per one experiment we have (for house prediction - floors count, bathrooms count, square space etc)\n",
    "\n",
    "sample_size = X_train.shape[1]\n",
    "# How may neurons do we want in a layer\n",
    "amount_of_neurons = 3\n",
    "W = np.ones((amount_of_neurons, sample_size))\n",
    "B = np.zeros((amount_of_neurons, 1))\n",
    "\n",
    "# Since I want to use matrix multiplication for W and X_train, I have to transpose X_train\n",
    "# Because W matrix row contains weights for a single learning sample and during multiplication\n",
    "# in is multiplied with the first column of second matrix (X_train), so we have to put values of x\n",
    "# for every sample to be in a same row, not in a same column\n",
    "\n",
    "# The result of W * X_train.T is the matrix where:\n",
    "# - each column contains data for single training sample\n",
    "#   the first element of the column is the first neuron data, the second is for second neuron etc\n",
    "# - first column is data for every neuron for the first sample, second column - second sample etc\n",
    "# _______________________________________________________________________________________________________________________\n",
    "# | W_fist_neuron · X_first_sample      |   W_fist_neuron · X_second_sample     |   W_fist_neuron · X_third_sample      |\n",
    "# | W_second_neuron · X_first_sample    |   W_second_neuron · X_second_sample   |   W_second_neuron · X_third_sample    |\n",
    "# | W_third_neuron · X_first_sample     |   W_third_neuron · X_second_sample    |   W_third_neuron · X_third_sample     |\n",
    "# ‾‾‾‾‾‾‾‾‾‾‾‾‾‾‾‾‾‾‾‾‾‾‾‾‾‾‾‾‾‾‾‾‾‾‾‾‾‾‾‾‾‾‾‾‾‾‾‾‾‾‾‾‾‾‾‾‾‾‾‾‾‾‾‾‾‾‾‾‾‾‾‾‾‾‾‾‾‾‾‾‾‾‾‾‾‾‾‾‾‾‾‾‾‾‾‾‾‾‾‾‾‾‾‾‾‾‾‾‾‾‾‾‾‾‾‾‾‾‾\n",
    "\n",
    "result = np.matmul(W, X_train.T) + B\n",
    "print(W)\n",
    "print(X_train.T)\n",
    "print(B)\n",
    "result"
   ]
  },
  {
   "cell_type": "code",
   "execution_count": 48,
   "metadata": {},
   "outputs": [
    {
     "data": {
      "text/plain": [
       "<tf.Tensor: shape=(2, 1), dtype=float32, numpy=\n",
       "array([[10.1],\n",
       "       [20.1]], dtype=float32)>"
      ]
     },
     "execution_count": 48,
     "metadata": {},
     "output_type": "execute_result"
    }
   ],
   "source": [
    "X_train = np.array([[1.0], [2.0]])\n",
    "\n",
    "linear_layer_1 = tf.keras.layers.Dense(units=1, activation = 'linear', )\n",
    "weights = linear_layer_1.get_weights()\n",
    "\n",
    "a_1 = linear_layer_1(X_train[0].reshape(1, 1))\n",
    "\n",
    "set_w = np.array([[10]])\n",
    "set_b = np.array([0.1])\n",
    "linear_layer_1.set_weights([set_w, set_b])\n",
    "\n",
    "a_1 = linear_layer_1(X_train)\n",
    "a_1"
   ]
  }
 ],
 "metadata": {
  "kernelspec": {
   "display_name": "base",
   "language": "python",
   "name": "python3"
  },
  "language_info": {
   "codemirror_mode": {
    "name": "ipython",
    "version": 3
   },
   "file_extension": ".py",
   "mimetype": "text/x-python",
   "name": "python",
   "nbconvert_exporter": "python",
   "pygments_lexer": "ipython3",
   "version": "3.10.10"
  },
  "orig_nbformat": 4
 },
 "nbformat": 4,
 "nbformat_minor": 2
}
