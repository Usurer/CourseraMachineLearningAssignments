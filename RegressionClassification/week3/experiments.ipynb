{
 "cells": [
  {
   "cell_type": "code",
   "execution_count": null,
   "metadata": {},
   "outputs": [],
   "source": [
    "import numpy as np\n",
    "\n",
    "\n",
    "# enable interactive charts and prevent 'Matplotlib is currently using agg a non-gui backend' errors on ax.show()\n",
    "# %matplotlib widget\n",
    "import matplotlib.pyplot as plt"
   ]
  },
  {
   "cell_type": "code",
   "execution_count": null,
   "metadata": {},
   "outputs": [],
   "source": [
    "def arrangeAndPlot(ax, x, y, z, ymin, ymax):\n",
    "    ax.set_ylim(ymin, ymax)\n",
    "    ax.plot(x, y)\n",
    "    ax.plot(x, z, c='red')\n",
    "\n",
    "_, axs = plt.subplots(2, 2)\n",
    "\n",
    "x1 = np.arange(-10, 10, 0.2)\n",
    "z1 =  3 * x1 + 5\n",
    "y1 = 1 / (1 + np.exp(-z1))\n",
    "\n",
    "arrangeAndPlot(axs[0, 0], x1, y1, z1, 0, 1)\n",
    "\n",
    "z2 =  0.1 * x1 + 0\n",
    "y2 = 1 / (1 + np.exp(-z2))\n",
    "\n",
    "arrangeAndPlot(axs[0, 1], x1, y2, z2, 0, 5)\n",
    "\n",
    "z3 =  1 * x1 + 0\n",
    "y3 = 1 / (1 + np.exp(-z3))\n",
    "\n",
    "arrangeAndPlot(axs[1, 0], x1, y3, z3, 0, 1)\n",
    "\n",
    "z4 =  0.3 * x1 + 0\n",
    "y4 = 1 / (1 + np.exp(-z4))\n",
    "\n",
    "arrangeAndPlot(axs[1, 1], x1, y4, z4, 0, 1)"
   ]
  },
  {
   "attachments": {},
   "cell_type": "markdown",
   "metadata": {},
   "source": [
    "It's interesting to take a look at Sigmoid with a high-order $z(x)$, like $x^5 + x^4 + ...$"
   ]
  },
  {
   "cell_type": "code",
   "execution_count": null,
   "metadata": {},
   "outputs": [],
   "source": [
    "_, axs = plt.subplots()\n",
    "\n",
    "x1 = np.arange(-2.5, 2, 0.1)\n",
    "z1 = 0.1 * (x1 ** 3) + 2 * (x1 ** 2) + 1 * x1 + 5 + 0.001 * (x1 ** 5) + 0.1 * (x1 ** 4)\n",
    "y1 = 1 / (1 + np.exp(-z1))\n",
    "\n",
    "axs.plot(x1, y1)"
   ]
  },
  {
   "cell_type": "code",
   "execution_count": null,
   "metadata": {},
   "outputs": [],
   "source": []
  }
 ],
 "metadata": {
  "kernelspec": {
   "display_name": "base",
   "language": "python",
   "name": "python3"
  },
  "language_info": {
   "codemirror_mode": {
    "name": "ipython",
    "version": 3
   },
   "file_extension": ".py",
   "mimetype": "text/x-python",
   "name": "python",
   "nbconvert_exporter": "python",
   "pygments_lexer": "ipython3",
   "version": "3.10.9"
  },
  "orig_nbformat": 4
 },
 "nbformat": 4,
 "nbformat_minor": 2
}
